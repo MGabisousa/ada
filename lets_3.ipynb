{
 "cells": [
  {
   "cell_type": "code",
   "execution_count": 89,
   "metadata": {},
   "outputs": [],
   "source": [
    "import pandas as pd\n",
    "import numpy as np\n",
    "from matplotlib import pyplot as plt \n",
    "import matplotlib.pyplot as plt"
   ]
  },
  {
   "cell_type": "code",
   "execution_count": 57,
   "metadata": {},
   "outputs": [
    {
     "data": {
      "text/html": [
       "<div>\n",
       "<style scoped>\n",
       "    .dataframe tbody tr th:only-of-type {\n",
       "        vertical-align: middle;\n",
       "    }\n",
       "\n",
       "    .dataframe tbody tr th {\n",
       "        vertical-align: top;\n",
       "    }\n",
       "\n",
       "    .dataframe thead th {\n",
       "        text-align: right;\n",
       "    }\n",
       "</style>\n",
       "<table border=\"1\" class=\"dataframe\">\n",
       "  <thead>\n",
       "    <tr style=\"text-align: right;\">\n",
       "      <th></th>\n",
       "      <th>CreditScore</th>\n",
       "      <th>Geography</th>\n",
       "      <th>Gender</th>\n",
       "      <th>Age</th>\n",
       "      <th>Tenure</th>\n",
       "      <th>Balance</th>\n",
       "      <th>NumOfProducts</th>\n",
       "      <th>HasCrCard</th>\n",
       "      <th>IsActiveMember</th>\n",
       "      <th>EstimatedSalary</th>\n",
       "      <th>Exited</th>\n",
       "    </tr>\n",
       "    <tr>\n",
       "      <th>RowNumber</th>\n",
       "      <th></th>\n",
       "      <th></th>\n",
       "      <th></th>\n",
       "      <th></th>\n",
       "      <th></th>\n",
       "      <th></th>\n",
       "      <th></th>\n",
       "      <th></th>\n",
       "      <th></th>\n",
       "      <th></th>\n",
       "      <th></th>\n",
       "    </tr>\n",
       "  </thead>\n",
       "  <tbody>\n",
       "    <tr>\n",
       "      <th>1</th>\n",
       "      <td>619</td>\n",
       "      <td>France</td>\n",
       "      <td>Female</td>\n",
       "      <td>42</td>\n",
       "      <td>2</td>\n",
       "      <td>0.00</td>\n",
       "      <td>1</td>\n",
       "      <td>1</td>\n",
       "      <td>1</td>\n",
       "      <td>101348.88</td>\n",
       "      <td>1</td>\n",
       "    </tr>\n",
       "    <tr>\n",
       "      <th>2</th>\n",
       "      <td>608</td>\n",
       "      <td>Spain</td>\n",
       "      <td>Female</td>\n",
       "      <td>41</td>\n",
       "      <td>1</td>\n",
       "      <td>83807.86</td>\n",
       "      <td>1</td>\n",
       "      <td>0</td>\n",
       "      <td>1</td>\n",
       "      <td>112542.58</td>\n",
       "      <td>0</td>\n",
       "    </tr>\n",
       "    <tr>\n",
       "      <th>3</th>\n",
       "      <td>502</td>\n",
       "      <td>France</td>\n",
       "      <td>Female</td>\n",
       "      <td>42</td>\n",
       "      <td>8</td>\n",
       "      <td>159660.80</td>\n",
       "      <td>3</td>\n",
       "      <td>1</td>\n",
       "      <td>0</td>\n",
       "      <td>113931.57</td>\n",
       "      <td>1</td>\n",
       "    </tr>\n",
       "    <tr>\n",
       "      <th>4</th>\n",
       "      <td>699</td>\n",
       "      <td>France</td>\n",
       "      <td>Female</td>\n",
       "      <td>39</td>\n",
       "      <td>1</td>\n",
       "      <td>0.00</td>\n",
       "      <td>2</td>\n",
       "      <td>0</td>\n",
       "      <td>0</td>\n",
       "      <td>93826.63</td>\n",
       "      <td>0</td>\n",
       "    </tr>\n",
       "    <tr>\n",
       "      <th>5</th>\n",
       "      <td>850</td>\n",
       "      <td>Spain</td>\n",
       "      <td>Female</td>\n",
       "      <td>43</td>\n",
       "      <td>2</td>\n",
       "      <td>125510.82</td>\n",
       "      <td>1</td>\n",
       "      <td>1</td>\n",
       "      <td>1</td>\n",
       "      <td>79084.10</td>\n",
       "      <td>0</td>\n",
       "    </tr>\n",
       "    <tr>\n",
       "      <th>...</th>\n",
       "      <td>...</td>\n",
       "      <td>...</td>\n",
       "      <td>...</td>\n",
       "      <td>...</td>\n",
       "      <td>...</td>\n",
       "      <td>...</td>\n",
       "      <td>...</td>\n",
       "      <td>...</td>\n",
       "      <td>...</td>\n",
       "      <td>...</td>\n",
       "      <td>...</td>\n",
       "    </tr>\n",
       "    <tr>\n",
       "      <th>9996</th>\n",
       "      <td>771</td>\n",
       "      <td>France</td>\n",
       "      <td>Male</td>\n",
       "      <td>39</td>\n",
       "      <td>5</td>\n",
       "      <td>0.00</td>\n",
       "      <td>2</td>\n",
       "      <td>1</td>\n",
       "      <td>0</td>\n",
       "      <td>96270.64</td>\n",
       "      <td>0</td>\n",
       "    </tr>\n",
       "    <tr>\n",
       "      <th>9997</th>\n",
       "      <td>516</td>\n",
       "      <td>France</td>\n",
       "      <td>Male</td>\n",
       "      <td>35</td>\n",
       "      <td>10</td>\n",
       "      <td>57369.61</td>\n",
       "      <td>1</td>\n",
       "      <td>1</td>\n",
       "      <td>1</td>\n",
       "      <td>101699.77</td>\n",
       "      <td>0</td>\n",
       "    </tr>\n",
       "    <tr>\n",
       "      <th>9998</th>\n",
       "      <td>709</td>\n",
       "      <td>France</td>\n",
       "      <td>Female</td>\n",
       "      <td>36</td>\n",
       "      <td>7</td>\n",
       "      <td>0.00</td>\n",
       "      <td>1</td>\n",
       "      <td>0</td>\n",
       "      <td>1</td>\n",
       "      <td>42085.58</td>\n",
       "      <td>1</td>\n",
       "    </tr>\n",
       "    <tr>\n",
       "      <th>9999</th>\n",
       "      <td>772</td>\n",
       "      <td>Germany</td>\n",
       "      <td>Male</td>\n",
       "      <td>42</td>\n",
       "      <td>3</td>\n",
       "      <td>75075.31</td>\n",
       "      <td>2</td>\n",
       "      <td>1</td>\n",
       "      <td>0</td>\n",
       "      <td>92888.52</td>\n",
       "      <td>1</td>\n",
       "    </tr>\n",
       "    <tr>\n",
       "      <th>10000</th>\n",
       "      <td>792</td>\n",
       "      <td>France</td>\n",
       "      <td>Female</td>\n",
       "      <td>28</td>\n",
       "      <td>4</td>\n",
       "      <td>130142.79</td>\n",
       "      <td>1</td>\n",
       "      <td>1</td>\n",
       "      <td>0</td>\n",
       "      <td>38190.78</td>\n",
       "      <td>0</td>\n",
       "    </tr>\n",
       "  </tbody>\n",
       "</table>\n",
       "<p>10000 rows × 11 columns</p>\n",
       "</div>"
      ],
      "text/plain": [
       "           CreditScore Geography  Gender  Age  Tenure    Balance  \\\n",
       "RowNumber                                                          \n",
       "1                  619    France  Female   42       2       0.00   \n",
       "2                  608     Spain  Female   41       1   83807.86   \n",
       "3                  502    France  Female   42       8  159660.80   \n",
       "4                  699    France  Female   39       1       0.00   \n",
       "5                  850     Spain  Female   43       2  125510.82   \n",
       "...                ...       ...     ...  ...     ...        ...   \n",
       "9996               771    France    Male   39       5       0.00   \n",
       "9997               516    France    Male   35      10   57369.61   \n",
       "9998               709    France  Female   36       7       0.00   \n",
       "9999               772   Germany    Male   42       3   75075.31   \n",
       "10000              792    France  Female   28       4  130142.79   \n",
       "\n",
       "           NumOfProducts  HasCrCard  IsActiveMember  EstimatedSalary  Exited  \n",
       "RowNumber                                                                     \n",
       "1                      1          1               1        101348.88       1  \n",
       "2                      1          0               1        112542.58       0  \n",
       "3                      3          1               0        113931.57       1  \n",
       "4                      2          0               0         93826.63       0  \n",
       "5                      1          1               1         79084.10       0  \n",
       "...                  ...        ...             ...              ...     ...  \n",
       "9996                   2          1               0         96270.64       0  \n",
       "9997                   1          1               1        101699.77       0  \n",
       "9998                   1          0               1         42085.58       1  \n",
       "9999                   2          1               0         92888.52       1  \n",
       "10000                  1          1               0         38190.78       0  \n",
       "\n",
       "[10000 rows x 11 columns]"
      ]
     },
     "execution_count": 57,
     "metadata": {},
     "output_type": "execute_result"
    }
   ],
   "source": [
    "arq=pd.read_csv('C:/Users/gabri/OneDrive/Documentos/churn.csv', sep = ',', index_col='RowNumber')\n",
    "arq.drop(['CustomerId', 'Surname'], axis=1, inplace = True)\n",
    "\n",
    "arq"
   ]
  },
  {
   "cell_type": "code",
   "execution_count": 58,
   "metadata": {},
   "outputs": [
    {
     "data": {
      "text/html": [
       "<div>\n",
       "<style scoped>\n",
       "    .dataframe tbody tr th:only-of-type {\n",
       "        vertical-align: middle;\n",
       "    }\n",
       "\n",
       "    .dataframe tbody tr th {\n",
       "        vertical-align: top;\n",
       "    }\n",
       "\n",
       "    .dataframe thead th {\n",
       "        text-align: right;\n",
       "    }\n",
       "</style>\n",
       "<table border=\"1\" class=\"dataframe\">\n",
       "  <thead>\n",
       "    <tr style=\"text-align: right;\">\n",
       "      <th></th>\n",
       "      <th>pt_Credito</th>\n",
       "      <th>Pais</th>\n",
       "      <th>genero</th>\n",
       "      <th>idade</th>\n",
       "      <th>estabilidade</th>\n",
       "      <th>saldo</th>\n",
       "      <th>aquisiçao</th>\n",
       "      <th>credito</th>\n",
       "      <th>conta_at</th>\n",
       "      <th>salario_est</th>\n",
       "      <th>esta_no_banco</th>\n",
       "    </tr>\n",
       "    <tr>\n",
       "      <th>RowNumber</th>\n",
       "      <th></th>\n",
       "      <th></th>\n",
       "      <th></th>\n",
       "      <th></th>\n",
       "      <th></th>\n",
       "      <th></th>\n",
       "      <th></th>\n",
       "      <th></th>\n",
       "      <th></th>\n",
       "      <th></th>\n",
       "      <th></th>\n",
       "    </tr>\n",
       "  </thead>\n",
       "  <tbody>\n",
       "    <tr>\n",
       "      <th>1</th>\n",
       "      <td>619</td>\n",
       "      <td>France</td>\n",
       "      <td>Female</td>\n",
       "      <td>42</td>\n",
       "      <td>2</td>\n",
       "      <td>0.00</td>\n",
       "      <td>1</td>\n",
       "      <td>1</td>\n",
       "      <td>1</td>\n",
       "      <td>101348.88</td>\n",
       "      <td>1</td>\n",
       "    </tr>\n",
       "    <tr>\n",
       "      <th>2</th>\n",
       "      <td>608</td>\n",
       "      <td>Spain</td>\n",
       "      <td>Female</td>\n",
       "      <td>41</td>\n",
       "      <td>1</td>\n",
       "      <td>83807.86</td>\n",
       "      <td>1</td>\n",
       "      <td>0</td>\n",
       "      <td>1</td>\n",
       "      <td>112542.58</td>\n",
       "      <td>0</td>\n",
       "    </tr>\n",
       "    <tr>\n",
       "      <th>3</th>\n",
       "      <td>502</td>\n",
       "      <td>France</td>\n",
       "      <td>Female</td>\n",
       "      <td>42</td>\n",
       "      <td>8</td>\n",
       "      <td>159660.80</td>\n",
       "      <td>3</td>\n",
       "      <td>1</td>\n",
       "      <td>0</td>\n",
       "      <td>113931.57</td>\n",
       "      <td>1</td>\n",
       "    </tr>\n",
       "    <tr>\n",
       "      <th>4</th>\n",
       "      <td>699</td>\n",
       "      <td>France</td>\n",
       "      <td>Female</td>\n",
       "      <td>39</td>\n",
       "      <td>1</td>\n",
       "      <td>0.00</td>\n",
       "      <td>2</td>\n",
       "      <td>0</td>\n",
       "      <td>0</td>\n",
       "      <td>93826.63</td>\n",
       "      <td>0</td>\n",
       "    </tr>\n",
       "    <tr>\n",
       "      <th>5</th>\n",
       "      <td>850</td>\n",
       "      <td>Spain</td>\n",
       "      <td>Female</td>\n",
       "      <td>43</td>\n",
       "      <td>2</td>\n",
       "      <td>125510.82</td>\n",
       "      <td>1</td>\n",
       "      <td>1</td>\n",
       "      <td>1</td>\n",
       "      <td>79084.10</td>\n",
       "      <td>0</td>\n",
       "    </tr>\n",
       "    <tr>\n",
       "      <th>...</th>\n",
       "      <td>...</td>\n",
       "      <td>...</td>\n",
       "      <td>...</td>\n",
       "      <td>...</td>\n",
       "      <td>...</td>\n",
       "      <td>...</td>\n",
       "      <td>...</td>\n",
       "      <td>...</td>\n",
       "      <td>...</td>\n",
       "      <td>...</td>\n",
       "      <td>...</td>\n",
       "    </tr>\n",
       "    <tr>\n",
       "      <th>9996</th>\n",
       "      <td>771</td>\n",
       "      <td>France</td>\n",
       "      <td>Male</td>\n",
       "      <td>39</td>\n",
       "      <td>5</td>\n",
       "      <td>0.00</td>\n",
       "      <td>2</td>\n",
       "      <td>1</td>\n",
       "      <td>0</td>\n",
       "      <td>96270.64</td>\n",
       "      <td>0</td>\n",
       "    </tr>\n",
       "    <tr>\n",
       "      <th>9997</th>\n",
       "      <td>516</td>\n",
       "      <td>France</td>\n",
       "      <td>Male</td>\n",
       "      <td>35</td>\n",
       "      <td>10</td>\n",
       "      <td>57369.61</td>\n",
       "      <td>1</td>\n",
       "      <td>1</td>\n",
       "      <td>1</td>\n",
       "      <td>101699.77</td>\n",
       "      <td>0</td>\n",
       "    </tr>\n",
       "    <tr>\n",
       "      <th>9998</th>\n",
       "      <td>709</td>\n",
       "      <td>France</td>\n",
       "      <td>Female</td>\n",
       "      <td>36</td>\n",
       "      <td>7</td>\n",
       "      <td>0.00</td>\n",
       "      <td>1</td>\n",
       "      <td>0</td>\n",
       "      <td>1</td>\n",
       "      <td>42085.58</td>\n",
       "      <td>1</td>\n",
       "    </tr>\n",
       "    <tr>\n",
       "      <th>9999</th>\n",
       "      <td>772</td>\n",
       "      <td>Germany</td>\n",
       "      <td>Male</td>\n",
       "      <td>42</td>\n",
       "      <td>3</td>\n",
       "      <td>75075.31</td>\n",
       "      <td>2</td>\n",
       "      <td>1</td>\n",
       "      <td>0</td>\n",
       "      <td>92888.52</td>\n",
       "      <td>1</td>\n",
       "    </tr>\n",
       "    <tr>\n",
       "      <th>10000</th>\n",
       "      <td>792</td>\n",
       "      <td>France</td>\n",
       "      <td>Female</td>\n",
       "      <td>28</td>\n",
       "      <td>4</td>\n",
       "      <td>130142.79</td>\n",
       "      <td>1</td>\n",
       "      <td>1</td>\n",
       "      <td>0</td>\n",
       "      <td>38190.78</td>\n",
       "      <td>0</td>\n",
       "    </tr>\n",
       "  </tbody>\n",
       "</table>\n",
       "<p>10000 rows × 11 columns</p>\n",
       "</div>"
      ],
      "text/plain": [
       "           pt_Credito     Pais  genero  idade  estabilidade      saldo  \\\n",
       "RowNumber                                                                \n",
       "1                 619   France  Female     42             2       0.00   \n",
       "2                 608    Spain  Female     41             1   83807.86   \n",
       "3                 502   France  Female     42             8  159660.80   \n",
       "4                 699   France  Female     39             1       0.00   \n",
       "5                 850    Spain  Female     43             2  125510.82   \n",
       "...               ...      ...     ...    ...           ...        ...   \n",
       "9996              771   France    Male     39             5       0.00   \n",
       "9997              516   France    Male     35            10   57369.61   \n",
       "9998              709   France  Female     36             7       0.00   \n",
       "9999              772  Germany    Male     42             3   75075.31   \n",
       "10000             792   France  Female     28             4  130142.79   \n",
       "\n",
       "           aquisiçao  credito  conta_at  salario_est  esta_no_banco  \n",
       "RowNumber                                                            \n",
       "1                  1        1         1    101348.88              1  \n",
       "2                  1        0         1    112542.58              0  \n",
       "3                  3        1         0    113931.57              1  \n",
       "4                  2        0         0     93826.63              0  \n",
       "5                  1        1         1     79084.10              0  \n",
       "...              ...      ...       ...          ...            ...  \n",
       "9996               2        1         0     96270.64              0  \n",
       "9997               1        1         1    101699.77              0  \n",
       "9998               1        0         1     42085.58              1  \n",
       "9999               2        1         0     92888.52              1  \n",
       "10000              1        1         0     38190.78              0  \n",
       "\n",
       "[10000 rows x 11 columns]"
      ]
     },
     "execution_count": 58,
     "metadata": {},
     "output_type": "execute_result"
    }
   ],
   "source": [
    "arq=arq.rename(columns = {'CreditScore':'pt_Credito',\n",
    "                      'Geography':'Pais','Gender':'genero','Age':'idade','Tenure':'estabilidade','Balance':'saldo',\n",
    "                      'NumOfProducts':'aquisiçao','HasCrCard':'credito','IsActiveMember':'conta_at',\n",
    "                      'EstimatedSalary':'salario_est','Exited':'esta_no_banco'})\n",
    "arq"
   ]
  },
  {
   "cell_type": "markdown",
   "metadata": {},
   "source": [
    "QUANTIDADE DE CARTAO DE CREDITO"
   ]
  },
  {
   "cell_type": "markdown",
   "metadata": {},
   "source": [
    "paises com mais desistencia\n"
   ]
  },
  {
   "cell_type": "markdown",
   "metadata": {},
   "source": [
    "base salarial que ppermanece e que de sai\n"
   ]
  },
  {
   "cell_type": "markdown",
   "metadata": {},
   "source": [
    "idade de mair desistencia \n"
   ]
  },
  {
   "cell_type": "markdown",
   "metadata": {},
   "source": [
    "pontuação de credito"
   ]
  },
  {
   "cell_type": "markdown",
   "metadata": {},
   "source": [
    "proporção"
   ]
  },
  {
   "cell_type": "code",
   "execution_count": 66,
   "metadata": {},
   "outputs": [],
   "source": [
    "def proporçao (coluna):\n",
    "    saida=arq.groupby([coluna,'esta_no_banco']).size()\n",
    "    coluna=arq.groupby(coluna).size()\n",
    "    return(round((saida/coluna)*100,2)).reset_index(name='proporção')"
   ]
  },
  {
   "cell_type": "markdown",
   "metadata": {},
   "source": [
    "## PROPORÇÃO POR GÊNERO "
   ]
  },
  {
   "cell_type": "code",
   "execution_count": 68,
   "metadata": {},
   "outputs": [
    {
     "data": {
      "image/png": "[encoded data removed]",
      "text/plain": [
       "<Figure size 1000x700 with 1 Axes>"
      ]
     },
     "metadata": {},
     "output_type": "display_data"
    },
    {
     "name": "stdout",
     "output_type": "stream",
     "text": [
      "        esta_no_banco  proporção\n",
      "genero                          \n",
      "Female              1      25.07\n",
      "Male                1      16.46\n"
     ]
    }
   ],
   "source": [
    "p1=proporçao('genero').set_index('genero').query('esta_no_banco==1')\n",
    "fig=plt.figure(figsize=(10,7))\n",
    "nome=p1['proporção']\n",
    "plt.pie(nome,labels=nome)\n",
    "plt.show()\n",
    "print(p1)"
   ]
  },
  {
   "cell_type": "markdown",
   "metadata": {},
   "source": [
    "saida do banco embasada no gênero: ver-se que as mulheres com 25% tem maior saida que os homens que tem 16% de saida uma diferença de 9 %."
   ]
  },
  {
   "cell_type": "markdown",
   "metadata": {},
   "source": [
    "## PROPORÇÃO POR PAÍS "
   ]
  },
  {
   "cell_type": "code",
   "execution_count": 63,
   "metadata": {},
   "outputs": [
    {
     "data": {
      "image/png": "[encoded data removed]",
      "text/plain": [
       "<Figure size 1000x700 with 1 Axes>"
      ]
     },
     "metadata": {},
     "output_type": "display_data"
    },
    {
     "name": "stdout",
     "output_type": "stream",
     "text": [
      "      Pais  esta_no_banco  proporção\n",
      "1   France              1  16.154767\n",
      "3  Germany              1  32.443204\n",
      "5    Spain              1  16.673395\n"
     ]
    }
   ],
   "source": [
    "p2=proporçao('Pais').query('esta_no_banco==1')\n",
    "fig=plt.figure(figsize=(10,7))\n",
    "nome=p2['proporção']\n",
    "plt.pie(nome,labels=nome)\n",
    "plt.show()\n",
    "print(p2)"
   ]
  },
  {
   "cell_type": "markdown",
   "metadata": {},
   "source": [
    " proporção de saída dos bancos da  \n",
    "França e Espanha têm proporções parecidas 16%, já a germânia tem o dobro de saídas com seus 32%. \n"
   ]
  },
  {
   "cell_type": "markdown",
   "metadata": {},
   "source": [
    "## proporção por crédito"
   ]
  },
  {
   "cell_type": "code",
   "execution_count": 70,
   "metadata": {},
   "outputs": [
    {
     "data": {
      "image/png": "[encoded data removed]",
      "text/plain": [
       "<Figure size 1000x700 with 1 Axes>"
      ]
     },
     "metadata": {},
     "output_type": "display_data"
    },
    {
     "name": "stdout",
     "output_type": "stream",
     "text": [
      "   credito  esta_no_banco  proporção\n",
      "1        0              1      20.81\n",
      "3        1              1      20.18\n"
     ]
    }
   ],
   "source": [
    "p3=proporçao('credito').query('esta_no_banco==1')\n",
    "fig=plt.figure(figsize=(10,7))\n",
    "nome=p3['proporção']\n",
    "plt.pie(nome,labels=nome)\n",
    "plt.show()\n",
    "print(p3)"
   ]
  },
  {
   "cell_type": "markdown",
   "metadata": {},
   "source": [
    "Pessoas que saíram do banco que possuem cartão de crédito saem menos que as pessoas que têm outro tipo de cartão, contudo a diferença é mínima de 0,63%."
   ]
  },
  {
   "cell_type": "markdown",
   "metadata": {},
   "source": [
    "## proporção de saída do banco a partir dos produtos adquiridos."
   ]
  },
  {
   "cell_type": "code",
   "execution_count": 93,
   "metadata": {},
   "outputs": [
    {
     "name": "stdout",
     "output_type": "stream",
     "text": [
      "           esta_no_banco  proporção\n",
      "aquisiçao                          \n",
      "1                      1      27.71\n",
      "2                      1       7.58\n",
      "3                      1      82.71\n",
      "4                      1     100.00\n"
     ]
    },
    {
     "data": {
      "image/png": "[encoded data removed]",
      "text/plain": [
       "<Figure size 640x480 with 1 Axes>"
      ]
     },
     "metadata": {},
     "output_type": "display_data"
    }
   ],
   "source": [
    "p4=proporçao('aquisiçao').query('esta_no_banco==1').set_index('aquisiçao')\n",
    "p4.plot(y='proporção',kind='bar')\n",
    "print(p4)"
   ]
  },
  {
   "cell_type": "markdown",
   "metadata": {},
   "source": []
  },
  {
   "cell_type": "code",
   "execution_count": 115,
   "metadata": {},
   "outputs": [
    {
     "name": "stdout",
     "output_type": "stream",
     "text": [
      "       esta_no_banco\n",
      "idade               \n",
      "46                91\n",
      "40                89\n",
      "43                88\n",
      "45                87\n",
      "48                80\n",
      "42                77\n",
      "47                77\n",
      "49                75\n",
      "44                73\n",
      "39                72\n",
      "50                71\n",
      "41                69\n",
      "51                66\n",
      "52                64\n",
      "38                63\n",
      "37                62\n",
      "35                57\n",
      "36                53\n",
      "54                51\n",
      "56                50\n",
      "55                48\n",
      "33                44\n",
      "53                40\n",
      "57                38\n",
      "31                33\n",
      "34                33\n",
      "32                32\n",
      "60                32\n",
      "59                30\n",
      "58                29\n",
      "29                28\n",
      "30                24\n",
      "28                23\n",
      "61                21\n",
      "62                21\n",
      "63                18\n",
      "26                14\n",
      "24                14\n",
      "27                13\n",
      "64                12\n",
      "22                12\n",
      "65                 8\n",
      "71                 7\n",
      "66                 7\n",
      "25                 6\n",
      "68                 6\n",
      "23                 6\n",
      "67                 5\n",
      "70                 4\n",
      "21                 3\n",
      "69                 2\n",
      "18                 2\n",
      "20                 2\n",
      "19                 1\n",
      "72                 1\n",
      "73                 1\n",
      "74                 1\n",
      "84                 1\n"
     ]
    },
    {
     "data": {
      "image/png": "[encoded data removed]",
      "text/plain": [
       "<Figure size 640x480 with 1 Axes>"
      ]
     },
     "metadata": {},
     "output_type": "display_data"
    }
   ],
   "source": [
    "p5=arq[['idade',\"esta_no_banco\"]].query('esta_no_banco==1').groupby('idade').agg('sum')\n",
    "p5.plot(y='esta_no_banco',kind='bar')\n",
    "print(p5.sort_values('esta_no_banco',ascending=False))\n"
   ]
  },
  {
   "cell_type": "markdown",
   "metadata": {},
   "source": [
    "## salário   "
   ]
  },
  {
   "cell_type": "code",
   "execution_count": 127,
   "metadata": {},
   "outputs": [
    {
     "name": "stdout",
     "output_type": "stream",
     "text": [
      "a média salarial é de 102948.99 e a média de saldos do banco é de 89036.64\n"
     ]
    }
   ],
   "source": [
    "p6=arq[['saldo','salario_est','esta_no_banco','genero']].query('esta_no_banco==1 & genero==\"Female\"')\n",
    "media_sala=(round((p6['salario_est'].agg('sum'))/(len(p6['salario_est'])),2))\n",
    "media_sal=(round((p6['saldo'].agg('sum'))/(len(p6['saldo'])),2))\n",
    "print(f'a média salarial é de {media_sala} e a média de saldos do banco é de {media_sal}')"
   ]
  },
  {
   "cell_type": "markdown",
   "metadata": {},
   "source": [
    "## Perfil de evasão do banco baseado no gênero na nacionalidade. "
   ]
  },
  {
   "cell_type": "markdown",
   "metadata": {},
   "source": [
    "O perfil de cliente que se evade do banco são mulheres entre 40-50 anos que ganham  102.948,99 e com um saldo bancário de 89.036,64 que possui em geral 4 produtos do banco e a utilização de crédito não afeta sua saída."
   ]
  }
 ],
 "metadata": {
  "kernelspec": {
   "display_name": "Python 3.10.8 64-bit (microsoft store)",
   "language": "python",
   "name": "python3"
  },
  "language_info": {
   "codemirror_mode": {
    "name": "ipython",
    "version": 3
   },
   "file_extension": ".py",
   "mimetype": "text/x-python",
   "name": "python",
   "nbconvert_exporter": "python",
   "pygments_lexer": "ipython3",
   "version": "3.10.8"
  },
  "orig_nbformat": 4,
  "vscode": {
   "interpreter": {
    "hash": "e9e375da22a79186ffe49072ae6df2c8be50fc2c627f3d12cad18e70942528a3"
   }
  }
 },
 "nbformat": 4,
 "nbformat_minor": 2
}
